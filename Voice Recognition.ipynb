{
 "cells": [
  {
   "cell_type": "code",
   "execution_count": 2,
   "metadata": {},
   "outputs": [
    {
     "name": "stderr",
     "output_type": "stream",
     "text": [
      "C:\\Users\\datta\\Anaconda3\\lib\\site-packages\\h5py\\__init__.py:36: FutureWarning: Conversion of the second argument of issubdtype from `float` to `np.floating` is deprecated. In future, it will be treated as `np.float64 == np.dtype(float).type`.\n",
      "  from ._conv import register_converters as _register_converters\n",
      "Using TensorFlow backend.\n"
     ]
    }
   ],
   "source": [
    "import matplotlib.pyplot as plt\n",
    "import pandas as pd\n",
    "import numpy as np\n",
    "import cv2\n",
    "import os\n",
    "import subprocess\n",
    "import os.path\n",
    "import time\n",
    "import math\n",
    "import csv\n",
    "#%matplotlib inline\n",
    "    \n",
    "from sklearn.datasets import make_regression, make_classification, load_iris\n",
    "from sklearn.preprocessing import StandardScaler, OneHotEncoder, LabelEncoder\n",
    "from sklearn.model_selection import train_test_split\n",
    "from sklearn.metrics import confusion_matrix\n",
    "\n",
    "from keras.models import Sequential, Model, load_model\n",
    "from keras.layers import Dense, Dropout, Activation, Flatten, Conv2D, MaxPooling2D\n",
    "from keras.utils import to_categorical,np_utils\n",
    "from keras.callbacks import EarlyStopping"
   ]
  },
  {
   "cell_type": "code",
   "execution_count": 3,
   "metadata": {},
   "outputs": [],
   "source": [
    "from scipy import signal\n",
    "from scipy.io import wavfile"
   ]
  },
  {
   "cell_type": "code",
   "execution_count": 4,
   "metadata": {},
   "outputs": [],
   "source": [
    "def bash(string):\n",
    "    '''run a bash command and return stdout lines as a py list'''\n",
    "    stdout=(subprocess.Popen(string, shell=True, stdout=subprocess.PIPE).stdout.read())\n",
    "    output = str(stdout)[2:-1].split('\\\\n')[:-1]\n",
    "    #output = str(stdout).split('\\\\n')[1:-1]\n",
    "    #output[0] = output[0][2:]\n",
    "    return output"
   ]
  },
  {
   "cell_type": "code",
   "execution_count": 5,
   "metadata": {},
   "outputs": [],
   "source": [
    "wav = 'E:/wav/'\n",
    "wav_files = bash('ls '+ wav)"
   ]
  },
  {
   "cell_type": "code",
   "execution_count": 6,
   "metadata": {},
   "outputs": [],
   "source": [
    "audio_files_20_sec = []\n",
    "for wav_file in wav_files:\n",
    "    \n",
    "    abs_path = wav + wav_file\n",
    "\n",
    "    sample_rate, samples = wavfile.read(abs_path) \n",
    "    samples = samples[:20*16000]\n",
    "    \n",
    "    audio_files_20_sec.append(samples)\n",
    "    \n",
    "#print('Audio file: ',abs_path ,'\\nSample rate: ', sample_rate, ' \\n# of samples: ', len(samples))"
   ]
  },
  {
   "cell_type": "code",
   "execution_count": 7,
   "metadata": {},
   "outputs": [
    {
     "data": {
      "text/plain": [
       "123"
      ]
     },
     "execution_count": 7,
     "metadata": {},
     "output_type": "execute_result"
    }
   ],
   "source": [
    "len(audio_files_20_sec)"
   ]
  },
  {
   "cell_type": "code",
   "execution_count": 8,
   "metadata": {},
   "outputs": [],
   "source": [
    "from python_speech_features import mfcc\n",
    "from python_speech_features import delta\n",
    "from python_speech_features import logfbank"
   ]
  },
  {
   "cell_type": "code",
   "execution_count": 9,
   "metadata": {},
   "outputs": [],
   "source": [
    "# rate = 16000\n",
    "# sig = audio_files_20_sec[0]\n",
    "\n",
    "# mfcc_feat = mfcc(sig,rate)\n",
    "# d_mfcc_feat = delta(mfcc_feat, 2)"
   ]
  },
  {
   "cell_type": "code",
   "execution_count": 10,
   "metadata": {},
   "outputs": [],
   "source": [
    "# len(mfcc_feat), len(d_mfcc_feat)"
   ]
  },
  {
   "cell_type": "code",
   "execution_count": 12,
   "metadata": {},
   "outputs": [],
   "source": [
    "rate = 16000\n",
    "MFCC = []\n",
    "D_MFCC = []\n",
    "DD_MFCC= []\n",
    "\n",
    "#Mel-frequency Cepstrum Coefficient function returns 13 coefficents for each 0.25 ms window\n",
    "\n",
    "for audio_file in audio_files_20_sec:\n",
    "    \n",
    "    mfcc_ = mfcc(audio_file,rate)\n",
    "    d_mfcc_ = delta(mfcc_, 2)\n",
    "    dd_mfcc_ = delta(d_mfcc_, 2)\n",
    "    \n",
    "    MFCC.append(mfcc_)\n",
    "    D_MFCC.append(d_mfcc_)\n",
    "    DD_MFCC.append(dd_mfcc_)"
   ]
  },
  {
   "cell_type": "code",
   "execution_count": 17,
   "metadata": {},
   "outputs": [
    {
     "data": {
      "text/plain": [
       "(1999, 13, 13)"
      ]
     },
     "execution_count": 17,
     "metadata": {},
     "output_type": "execute_result"
    }
   ],
   "source": [
    "len(MFCC[0]), len(DD_MFCC[0][0]), len(D_MFCC[0][0])"
   ]
  },
  {
   "cell_type": "code",
   "execution_count": null,
   "metadata": {},
   "outputs": [],
   "source": [
    "VECTOR_OF_FEATURES = []\n",
    "for file in range(len(MFCC)):\n",
    "    for vector in \n",
    "    "
   ]
  },
  {
   "cell_type": "code",
   "execution_count": null,
   "metadata": {},
   "outputs": [],
   "source": [
    "for "
   ]
  }
 ],
 "metadata": {
  "kernelspec": {
   "display_name": "Python 3",
   "language": "python",
   "name": "python3"
  },
  "language_info": {
   "codemirror_mode": {
    "name": "ipython",
    "version": 3
   },
   "file_extension": ".py",
   "mimetype": "text/x-python",
   "name": "python",
   "nbconvert_exporter": "python",
   "pygments_lexer": "ipython3",
   "version": "3.6.5"
  }
 },
 "nbformat": 4,
 "nbformat_minor": 2
}
